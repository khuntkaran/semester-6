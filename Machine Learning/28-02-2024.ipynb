{
 "cells": [
  {
   "cell_type": "markdown",
   "id": "b08677a4",
   "metadata": {},
   "source": [
    "# 7 principal component analisis"
   ]
  },
  {
   "cell_type": "code",
   "execution_count": 1,
   "id": "f94d17d3",
   "metadata": {},
   "outputs": [],
   "source": [
    "import numpy as np"
   ]
  },
  {
   "cell_type": "code",
   "execution_count": 2,
   "id": "b2e22596",
   "metadata": {},
   "outputs": [],
   "source": [
    "marks = np.array([[90,90,60,60,30],[60,90,60,60,30],[90,30,60,90,30]])"
   ]
  },
  {
   "cell_type": "code",
   "execution_count": 3,
   "id": "dfa2986e",
   "metadata": {},
   "outputs": [
    {
     "data": {
      "text/plain": [
       "array([66., 60., 60.])"
      ]
     },
     "execution_count": 3,
     "metadata": {},
     "output_type": "execute_result"
    }
   ],
   "source": [
    "mean_marks = np.mean(marks,axis=1)\n",
    "mean_marks"
   ]
  },
  {
   "cell_type": "code",
   "execution_count": 5,
   "id": "5611c5ae",
   "metadata": {},
   "outputs": [
    {
     "data": {
      "text/plain": [
       "array([[504., 360., 180.],\n",
       "       [360., 360.,   0.],\n",
       "       [180.,   0., 720.]])"
      ]
     },
     "execution_count": 5,
     "metadata": {},
     "output_type": "execute_result"
    }
   ],
   "source": [
    "covmat = np.cov(marks,bias=True)\n",
    "covmat"
   ]
  },
  {
   "cell_type": "code",
   "execution_count": 6,
   "id": "913fd5ad",
   "metadata": {},
   "outputs": [
    {
     "data": {
      "text/plain": [
       "array([ 44.81966028, 910.06995304, 629.11038668])"
      ]
     },
     "execution_count": 6,
     "metadata": {},
     "output_type": "execute_result"
    }
   ],
   "source": [
    "eig_val,eig_vec = np.linalg.eig(covmat)\n",
    "eig_val"
   ]
  },
  {
   "cell_type": "code",
   "execution_count": 7,
   "id": "7d4fcfac",
   "metadata": {},
   "outputs": [
    {
     "data": {
      "text/plain": [
       "array([[ 0.6487899 , -0.65580225, -0.3859988 ],\n",
       "       [-0.74104991, -0.4291978 , -0.51636642],\n",
       "       [-0.17296443, -0.62105769,  0.7644414 ]])"
      ]
     },
     "execution_count": 7,
     "metadata": {},
     "output_type": "execute_result"
    }
   ],
   "source": [
    "eig_vec"
   ]
  },
  {
   "cell_type": "code",
   "execution_count": 8,
   "id": "71372fc9",
   "metadata": {},
   "outputs": [
    {
     "name": "stdout",
     "output_type": "stream",
     "text": [
      "910.0699530410361\n",
      "629.1103866763253\n",
      "44.81966028263878\n"
     ]
    }
   ],
   "source": [
    "eig_pairs =[(np.abs(eig_val[i]),eig_vec[:,i]) for i in range(len(eig_val))]\n",
    "\n",
    "eig_pairs.sort(key=lambda x: x[0],reverse=True)\n",
    "for i in eig_pairs :\n",
    "    print(i[0])"
   ]
  },
  {
   "cell_type": "code",
   "execution_count": 9,
   "id": "4630712e",
   "metadata": {},
   "outputs": [
    {
     "name": "stdout",
     "output_type": "stream",
     "text": [
      "Matrix W : \n",
      " [[-0.65580225 -0.3859988 ]\n",
      " [-0.4291978  -0.51636642]\n",
      " [-0.62105769  0.7644414 ]]\n"
     ]
    }
   ],
   "source": [
    "matrix_w = np.hstack((eig_pairs[0][1].reshape(3,1),eig_pairs[1][1].reshape(3,1)))\n",
    "print('Matrix W : \\n', matrix_w)"
   ]
  },
  {
   "cell_type": "code",
   "execution_count": 10,
   "id": "855b8e7e",
   "metadata": {},
   "outputs": [
    {
     "data": {
      "text/plain": [
       "array([[-34.37098481,  -9.98345733,   3.93481353, -14.69691716,\n",
       "         55.11654576],\n",
       "       [ 13.66927088, -47.68820559,   2.31599277,  25.24923474,\n",
       "          6.45370719]])"
      ]
     },
     "execution_count": 10,
     "metadata": {},
     "output_type": "execute_result"
    }
   ],
   "source": [
    "transformed = matrix_w.T.dot(marks-mean_marks.reshape(3,1))\n",
    "transformed"
   ]
  },
  {
   "cell_type": "code",
   "execution_count": 11,
   "id": "dd9c93ff",
   "metadata": {},
   "outputs": [],
   "source": [
    "from sklearn.decomposition import PCA as sklearnPCA\n"
   ]
  },
  {
   "cell_type": "code",
   "execution_count": 13,
   "id": "498961bc",
   "metadata": {},
   "outputs": [
    {
     "data": {
      "text/plain": [
       "array([[-34.37098481, -13.66927088],\n",
       "       [ -9.98345733,  47.68820559],\n",
       "       [  3.93481353,  -2.31599277],\n",
       "       [-14.69691716, -25.24923474],\n",
       "       [ 55.11654576,  -6.45370719]])"
      ]
     },
     "execution_count": 13,
     "metadata": {},
     "output_type": "execute_result"
    }
   ],
   "source": [
    "sklearn_pca = sklearnPCA(n_components=2)\n",
    "sklearn_transf = sklearn_pca.fit_transform(marks.T)\n",
    "sklearn_transf"
   ]
  },
  {
   "cell_type": "code",
   "execution_count": 14,
   "id": "a4e03ec2",
   "metadata": {},
   "outputs": [
    {
     "data": {
      "text/plain": [
       "array([[-0.65580225, -0.4291978 , -0.62105769],\n",
       "       [ 0.3859988 ,  0.51636642, -0.7644414 ]])"
      ]
     },
     "execution_count": 14,
     "metadata": {},
     "output_type": "execute_result"
    }
   ],
   "source": [
    "sklearn_pca.components_"
   ]
  },
  {
   "cell_type": "code",
   "execution_count": 15,
   "id": "a48ba670",
   "metadata": {},
   "outputs": [
    {
     "data": {
      "text/plain": [
       "array([910.06995304, 629.11038668,  44.81966028])"
      ]
     },
     "execution_count": 15,
     "metadata": {},
     "output_type": "execute_result"
    }
   ],
   "source": [
    "eig_val[::-1].sort()\n",
    "eig_val"
   ]
  },
  {
   "cell_type": "code",
   "execution_count": 16,
   "id": "11212424",
   "metadata": {},
   "outputs": [
    {
     "data": {
      "text/plain": [
       "array([0.57453911, 0.39716565, 0.02829524])"
      ]
     },
     "execution_count": 16,
     "metadata": {},
     "output_type": "execute_result"
    }
   ],
   "source": [
    "eig_val/eig_val.sum()"
   ]
  },
  {
   "cell_type": "code",
   "execution_count": 17,
   "id": "40e4b2fd",
   "metadata": {},
   "outputs": [
    {
     "data": {
      "text/plain": [
       "array([0.57453911, 0.39716565])"
      ]
     },
     "execution_count": 17,
     "metadata": {},
     "output_type": "execute_result"
    }
   ],
   "source": [
    "sklearn_pca.explained_variance_ratio_"
   ]
  },
  {
   "cell_type": "code",
   "execution_count": 18,
   "id": "23943d43",
   "metadata": {},
   "outputs": [
    {
     "data": {
      "text/plain": [
       "array([0.57453911, 0.97170476])"
      ]
     },
     "execution_count": 18,
     "metadata": {},
     "output_type": "execute_result"
    }
   ],
   "source": [
    "sklearn_pca.explained_variance_ratio_.cumsum()"
   ]
  },
  {
   "cell_type": "code",
   "execution_count": 20,
   "id": "232c3919",
   "metadata": {},
   "outputs": [],
   "source": [
    "marks1 = np.array([[90,90,60,60,30],[60,90,60,60,30],[90,30,60,90,30],[90,60,30,60,90]])"
   ]
  },
  {
   "cell_type": "code",
   "execution_count": 22,
   "id": "ba2f15a3",
   "metadata": {},
   "outputs": [
    {
     "data": {
      "text/plain": [
       "array([[-2.54537921e+01, -3.03217648e+01, -2.16302458e+01,\n",
       "        -4.10213500e+00],\n",
       "       [-1.53913876e+01,  4.21704242e+01, -1.97922323e+01,\n",
       "         2.24233100e+00],\n",
       "       [-5.27970789e+00,  1.52354252e+01,  3.23787728e+01,\n",
       "        -4.86020310e+00],\n",
       "       [-1.37281060e+01, -2.14560478e+01,  1.66556912e+01,\n",
       "         6.76498860e+00],\n",
       "       [ 5.98529936e+01, -5.62803687e+00, -7.61198589e+00,\n",
       "        -4.49815030e-02]])"
      ]
     },
     "execution_count": 22,
     "metadata": {},
     "output_type": "execute_result"
    }
   ],
   "source": [
    "sklearn_pca = sklearnPCA(n_components=4)\n",
    "sklearn_transf = sklearn_pca.fit_transform(marks1.T)\n",
    "sklearn_transf"
   ]
  },
  {
   "cell_type": "code",
   "execution_count": 23,
   "id": "4e4ec83e",
   "metadata": {},
   "outputs": [
    {
     "data": {
      "image/png": "[encoded data removed]",
      "text/plain": [
       "<Figure size 700x500 with 1 Axes>"
      ]
     },
     "metadata": {},
     "output_type": "display_data"
    }
   ],
   "source": [
    "from matplotlib import pyplot as plt\n",
    "\n",
    "plt.figure(figsize=(7,5))\n",
    "plt.plot([1,2,3,4],sklearn_pca.explained_variance_ratio_,'-o',label='Individual component')\n",
    "plt.plot([1,2,3,4],np.cumsum(sklearn_pca.explained_variance_ratio_),'-s',label='Cumulative')\n",
    "plt.ylabel('Proportion of variance Explained')\n",
    "plt.xlabel('Principal component')\n",
    "plt.xlim(0.75,4.25)\n",
    "plt.ylim(0,1.05)\n",
    "plt.xticks([1,2,3,4])\n",
    "plt.legend(loc=2)\n",
    "plt.show()"
   ]
  },
  {
   "cell_type": "code",
   "execution_count": null,
   "id": "1fc7228c",
   "metadata": {},
   "outputs": [],
   "source": []
  }
 ],
 "metadata": {
  "kernelspec": {
   "display_name": "Python 3 (ipykernel)",
   "language": "python",
   "name": "python3"
  },
  "language_info": {
   "codemirror_mode": {
    "name": "ipython",
    "version": 3
   },
   "file_extension": ".py",
   "mimetype": "text/x-python",
   "name": "python",
   "nbconvert_exporter": "python",
   "pygments_lexer": "ipython3",
   "version": "3.10.9"
  }
 },
 "nbformat": 4,
 "nbformat_minor": 5
}
